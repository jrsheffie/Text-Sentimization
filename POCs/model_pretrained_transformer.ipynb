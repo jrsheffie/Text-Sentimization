{
 "cells": [
  {
   "cell_type": "markdown",
   "id": "112d1f3b",
   "metadata": {},
   "source": [
    "# Instagram Sentiment Analysis POC - Transformer pretrained"
   ]
  },
  {
   "cell_type": "code",
   "execution_count": 1,
   "id": "a18ab3de",
   "metadata": {},
   "outputs": [],
   "source": [
    "import pandas as pd\n",
    "import numpy as np\n",
    "import re\n",
    "from tqdm.notebook import tqdm\n",
    "from transformers import pipeline\n",
    "from nltk.corpus import stopwords\n",
    "from nltk.tokenize import word_tokenize\n",
    "import nltk\n",
    "from langdetect import detect, DetectorFactory\n",
    "from langdetect.lang_detect_exception import LangDetectException\n",
    "import plotly.express as px\n",
    "import torch\n",
    "import time"
   ]
  },
  {
   "cell_type": "code",
   "execution_count": null,
   "id": "8ebb488a",
   "metadata": {},
   "outputs": [
    {
     "name": "stderr",
     "output_type": "stream",
     "text": [
      "[nltk_data] Downloading package stopwords to\n",
      "[nltk_data]     C:\\Users\\shyam\\AppData\\Roaming\\nltk_data...\n",
      "[nltk_data]   Package stopwords is already up-to-date!\n",
      "[nltk_data] Downloading package punkt to\n",
      "[nltk_data]     C:\\Users\\shyam\\AppData\\Roaming\\nltk_data...\n",
      "[nltk_data]   Package punkt is already up-to-date!\n"
     ]
    }
   ],
   "source": [
    "#Tokenizer setup\n",
    "nltk.download('stopwords')\n",
    "nltk.download('punkt')\n",
    "DetectorFactory.seed = 0"
   ]
  },
  {
   "cell_type": "markdown",
   "id": "6b2e8224",
   "metadata": {},
   "source": [
    "## Data Load"
   ]
  },
  {
   "cell_type": "code",
   "execution_count": null,
   "id": "bae72d45",
   "metadata": {},
   "outputs": [
    {
     "data": {
      "text/html": [
       "<div>\n",
       "<style scoped>\n",
       "    .dataframe tbody tr th:only-of-type {\n",
       "        vertical-align: middle;\n",
       "    }\n",
       "\n",
       "    .dataframe tbody tr th {\n",
       "        vertical-align: top;\n",
       "    }\n",
       "\n",
       "    .dataframe thead th {\n",
       "        text-align: right;\n",
       "    }\n",
       "</style>\n",
       "<table border=\"1\" class=\"dataframe\">\n",
       "  <thead>\n",
       "    <tr style=\"text-align: right;\">\n",
       "      <th></th>\n",
       "      <th>comment</th>\n",
       "      <th>comment_date</th>\n",
       "      <th>likes_number</th>\n",
       "      <th>post_url</th>\n",
       "    </tr>\n",
       "  </thead>\n",
       "  <tbody>\n",
       "    <tr>\n",
       "      <th>0</th>\n",
       "      <td>👏👏👏</td>\n",
       "      <td>2024-11-13T20:01:57.000Z</td>\n",
       "      <td>1</td>\n",
       "      <td>https://www.instagram.com/p/DCUcCAHvEli</td>\n",
       "    </tr>\n",
       "    <tr>\n",
       "      <th>1</th>\n",
       "      <td>😍😍😍</td>\n",
       "      <td>2024-11-13T17:11:39.000Z</td>\n",
       "      <td>1</td>\n",
       "      <td>https://www.instagram.com/p/DCUcCAHvEli</td>\n",
       "    </tr>\n",
       "    <tr>\n",
       "      <th>2</th>\n",
       "      <td>Meu querido @euwanderson7  que  foi nosso dele...</td>\n",
       "      <td>2024-11-13T23:00:46.000Z</td>\n",
       "      <td>1</td>\n",
       "      <td>https://www.instagram.com/p/DCT93_2p7bG</td>\n",
       "    </tr>\n",
       "    <tr>\n",
       "      <th>3</th>\n",
       "      <td>Com o professor Matheus Carvalho, realmente  s...</td>\n",
       "      <td>2024-11-14T00:16:19.000Z</td>\n",
       "      <td>3</td>\n",
       "      <td>https://www.instagram.com/p/DCUhYQ4Pn2y</td>\n",
       "    </tr>\n",
       "    <tr>\n",
       "      <th>4</th>\n",
       "      <td>@rafael.fonteles todo ano é isso. O único muni...</td>\n",
       "      <td>2024-11-14T17:33:11.000Z</td>\n",
       "      <td>1</td>\n",
       "      <td>https://www.instagram.com/p/DCRWettOTUB</td>\n",
       "    </tr>\n",
       "  </tbody>\n",
       "</table>\n",
       "</div>"
      ],
      "text/plain": [
       "                                             comment  \\\n",
       "0                                                👏👏👏   \n",
       "1                                                😍😍😍   \n",
       "2  Meu querido @euwanderson7  que  foi nosso dele...   \n",
       "3  Com o professor Matheus Carvalho, realmente  s...   \n",
       "4  @rafael.fonteles todo ano é isso. O único muni...   \n",
       "\n",
       "               comment_date  likes_number  \\\n",
       "0  2024-11-13T20:01:57.000Z             1   \n",
       "1  2024-11-13T17:11:39.000Z             1   \n",
       "2  2024-11-13T23:00:46.000Z             1   \n",
       "3  2024-11-14T00:16:19.000Z             3   \n",
       "4  2024-11-14T17:33:11.000Z             1   \n",
       "\n",
       "                                  post_url  \n",
       "0  https://www.instagram.com/p/DCUcCAHvEli  \n",
       "1  https://www.instagram.com/p/DCUcCAHvEli  \n",
       "2  https://www.instagram.com/p/DCT93_2p7bG  \n",
       "3  https://www.instagram.com/p/DCUhYQ4Pn2y  \n",
       "4  https://www.instagram.com/p/DCRWettOTUB  "
      ]
     },
     "execution_count": 3,
     "metadata": {},
     "output_type": "execute_result"
    }
   ],
   "source": [
    "#Dataset taken from https://github.com/luminati-io/Social-media-dataset-samples\n",
    "df = pd.read_csv(r\"C:\\Users\\shyam\\Downloads\\Project_NLP_Insta\\Instagram-datasets.csv\")\n",
    "df = df[['comment', 'comment_date', 'likes_number', 'post_url']].copy()\n",
    "df.dropna(subset=['comment'], inplace=True)\n",
    "df.reset_index(drop=True, inplace=True)\n",
    "df.head()"
   ]
  },
  {
   "cell_type": "markdown",
   "id": "1aa16421",
   "metadata": {},
   "source": [
    "## Preprocessing"
   ]
  },
  {
   "cell_type": "code",
   "execution_count": null,
   "id": "ba452eae",
   "metadata": {},
   "outputs": [
    {
     "name": "stdout",
     "output_type": "stream",
     "text": [
      "English-only comments retained: 318\n"
     ]
    },
    {
     "data": {
      "text/html": [
       "<div>\n",
       "<style scoped>\n",
       "    .dataframe tbody tr th:only-of-type {\n",
       "        vertical-align: middle;\n",
       "    }\n",
       "\n",
       "    .dataframe tbody tr th {\n",
       "        vertical-align: top;\n",
       "    }\n",
       "\n",
       "    .dataframe thead th {\n",
       "        text-align: right;\n",
       "    }\n",
       "</style>\n",
       "<table border=\"1\" class=\"dataframe\">\n",
       "  <thead>\n",
       "    <tr style=\"text-align: right;\">\n",
       "      <th></th>\n",
       "      <th>comment</th>\n",
       "      <th>comment_date</th>\n",
       "      <th>likes_number</th>\n",
       "      <th>post_url</th>\n",
       "      <th>clean_comment</th>\n",
       "      <th>language</th>\n",
       "      <th>token_count</th>\n",
       "    </tr>\n",
       "  </thead>\n",
       "  <tbody>\n",
       "    <tr>\n",
       "      <th>33</th>\n",
       "      <td>I have never peed in a race car too</td>\n",
       "      <td>2024-11-04T14:01:53.000Z</td>\n",
       "      <td>4</td>\n",
       "      <td>https://www.instagram.com/reel/DB4HUISvG3V</td>\n",
       "      <td>i have never peed in a race car too</td>\n",
       "      <td>en</td>\n",
       "      <td>9</td>\n",
       "    </tr>\n",
       "    <tr>\n",
       "      <th>46</th>\n",
       "      <td>A The Best de todo o litoral 👏🏻📸☀️🌴🌊🌅✨ @raiane...</td>\n",
       "      <td>2024-10-27T18:15:39.000Z</td>\n",
       "      <td>2</td>\n",
       "      <td>https://www.instagram.com/p/DBovSOkvRTd</td>\n",
       "      <td>a the best de todo o litoral</td>\n",
       "      <td>en</td>\n",
       "      <td>7</td>\n",
       "    </tr>\n",
       "    <tr>\n",
       "      <th>48</th>\n",
       "      <td>Do you sign up at the show if you want to be a...</td>\n",
       "      <td>2024-11-01T18:29:38.000Z</td>\n",
       "      <td>1</td>\n",
       "      <td>https://www.instagram.com/p/DBY88T2p-vx</td>\n",
       "      <td>do you sign up at the show if you want to be a...</td>\n",
       "      <td>en</td>\n",
       "      <td>14</td>\n",
       "    </tr>\n",
       "    <tr>\n",
       "      <th>49</th>\n",
       "      <td>You guys forgot the apron in the women section...</td>\n",
       "      <td>2024-11-16T14:06:28.000Z</td>\n",
       "      <td>3</td>\n",
       "      <td>https://www.instagram.com/p/DCW8m-GtW4B</td>\n",
       "      <td>you guys forgot the apron in the women section...</td>\n",
       "      <td>en</td>\n",
       "      <td>15</td>\n",
       "    </tr>\n",
       "    <tr>\n",
       "      <th>70</th>\n",
       "      <td>How do we sign up if we're interested in perfo...</td>\n",
       "      <td>2024-10-27T08:50:48.000Z</td>\n",
       "      <td>2</td>\n",
       "      <td>https://www.instagram.com/p/DBY88T2p-vx</td>\n",
       "      <td>how do we sign up if were interested in perfor...</td>\n",
       "      <td>en</td>\n",
       "      <td>10</td>\n",
       "    </tr>\n",
       "  </tbody>\n",
       "</table>\n",
       "</div>"
      ],
      "text/plain": [
       "                                              comment  \\\n",
       "33                I have never peed in a race car too   \n",
       "46  A The Best de todo o litoral 👏🏻📸☀️🌴🌊🌅✨ @raiane...   \n",
       "48  Do you sign up at the show if you want to be a...   \n",
       "49  You guys forgot the apron in the women section...   \n",
       "70  How do we sign up if we're interested in perfo...   \n",
       "\n",
       "                comment_date  likes_number  \\\n",
       "33  2024-11-04T14:01:53.000Z             4   \n",
       "46  2024-10-27T18:15:39.000Z             2   \n",
       "48  2024-11-01T18:29:38.000Z             1   \n",
       "49  2024-11-16T14:06:28.000Z             3   \n",
       "70  2024-10-27T08:50:48.000Z             2   \n",
       "\n",
       "                                      post_url  \\\n",
       "33  https://www.instagram.com/reel/DB4HUISvG3V   \n",
       "46     https://www.instagram.com/p/DBovSOkvRTd   \n",
       "48     https://www.instagram.com/p/DBY88T2p-vx   \n",
       "49     https://www.instagram.com/p/DCW8m-GtW4B   \n",
       "70     https://www.instagram.com/p/DBY88T2p-vx   \n",
       "\n",
       "                                        clean_comment language  token_count  \n",
       "33                i have never peed in a race car too       en            9  \n",
       "46                       a the best de todo o litoral       en            7  \n",
       "48  do you sign up at the show if you want to be a...       en           14  \n",
       "49  you guys forgot the apron in the women section...       en           15  \n",
       "70  how do we sign up if were interested in perfor...       en           10  "
      ]
     },
     "execution_count": 4,
     "metadata": {},
     "output_type": "execute_result"
    }
   ],
   "source": [
    "#Cleaning Data Functions\n",
    "def clean_text(text):\n",
    "    text = str(text).lower()\n",
    "    text = re.sub(r\"http\\S+|@\\w+|#\\w+|[^\\x00-\\x7F]+\", \" \", text)  # Removing url using regex on HTTP, @ regex mentions, and emoji code regex patterns\n",
    "    text = re.sub(r\"[^a-z\\s]\", \"\", text)                          # Letter Only Regex\n",
    "    text = re.sub(r\"\\s+\", \" \", text).strip()                     # Space Trim Logic\n",
    "    return text\n",
    "\n",
    "#English Language Detection\n",
    "def detect_language(text):\n",
    "    try:\n",
    "        return detect(text)\n",
    "    except LangDetectException:\n",
    "        return \"unknown\"\n",
    "    \n",
    "#Tokenize our comments and also flag the records that are english\n",
    "df['clean_comment'] = df['comment'].apply(clean_text)\n",
    "df['language'] = df['clean_comment'].apply(detect_language)\n",
    "df = df[df['language'] == 'en'].copy()\n",
    "df['token_count'] = df['clean_comment'].apply(lambda x: len(word_tokenize(x)))\n",
    "print(\"English-only comments retained:\", len(df))\n",
    "df.head()"
   ]
  },
  {
   "cell_type": "code",
   "execution_count": null,
   "id": "a2829547",
   "metadata": {},
   "outputs": [
    {
     "name": "stderr",
     "output_type": "stream",
     "text": [
      "Device set to use cpu\n"
     ]
    }
   ],
   "source": [
    "#Used the Hugging Face DistilBERT Transformer to classify my text\n",
    "sentiment_model = pipeline(\"sentiment-analysis\", model=\"distilbert-base-uncased-finetuned-sst-2-english\")"
   ]
  },
  {
   "cell_type": "code",
   "execution_count": null,
   "id": "b27017e8",
   "metadata": {},
   "outputs": [
    {
     "name": "stdout",
     "output_type": "stream",
     "text": [
      "Running sentiment predictions...\n",
      "Processed 0 / 318 rows...\n",
      "Sentiment prediction complete.\n"
     ]
    }
   ],
   "source": [
    "#Batching my data and Adding Confidence and Sentiments\n",
    "sentiments = []\n",
    "confidences = []\n",
    "batch_size = 32\n",
    "total = len(df)\n",
    "\n",
    "print(\"Running sentiment predictions...\")\n",
    "\n",
    "for i in range(0, total, batch_size):\n",
    "    batch = df['clean_comment'].iloc[i:i + batch_size].tolist()\n",
    "    preds = sentiment_model(batch)\n",
    "\n",
    "    sentiments.extend([1 if p['label'] == 'POSITIVE' else 0 for p in preds])\n",
    "    confidences.extend([p['score'] for p in preds])\n",
    "\n",
    "    if i % (total // 10) == 0:\n",
    "        print(f\"Processed {i} / {total} rows...\")\n",
    "\n",
    "print(\"Sentiment prediction complete.\")\n",
    "\n",
    "df['sentiment'] = sentiments\n",
    "df['confidence'] = confidences"
   ]
  },
  {
   "cell_type": "code",
   "execution_count": 7,
   "id": "1ded1de1",
   "metadata": {},
   "outputs": [],
   "source": [
    "df.to_csv(\"instagram_labeled_output.csv\", index=False)"
   ]
  },
  {
   "cell_type": "markdown",
   "id": "02818160",
   "metadata": {},
   "source": [
    "## Sample Model Presentations"
   ]
  },
  {
   "cell_type": "code",
   "execution_count": null,
   "id": "2a07a2f5",
   "metadata": {},
   "outputs": [
    {
     "data": {
      "application/vnd.plotly.v1+json": {
       "config": {
        "plotlyServerURL": "https://plot.ly"
       },
       "data": [
        {
         "bingroup": "x",
         "hovertemplate": "Sentiment=%{x}<br>count=%{y}<extra></extra>",
         "legendgroup": "1",
         "marker": {
          "color": "green",
          "pattern": {
           "shape": ""
          }
         },
         "name": "1",
         "orientation": "v",
         "showlegend": true,
         "type": "histogram",
         "x": {
          "bdata": "AQEBAQEBAQEBAQEBAQEBAQEBAQEBAQEBAQEBAQEBAQEBAQEBAQEBAQEBAQEBAQEBAQEBAQEBAQEBAQEBAQEBAQEBAQEBAQEBAQEBAQEBAQEBAQEBAQEBAQEBAQEBAQEBAQEBAQEBAQEBAQEBAQEBAQEBAQEBAQEBAQEBAQEBAQEBAQEBAQEBAQEBAQEBAQEBAQEBAQEBAQEBAQEBAQEBAQEBAQEBAQEBAQEBAQEBAQEBAQEBAQEBAQEBAQEBAQEBAQEBAQEBAQEBAQEBAQEBAQEBAQEBAQEBAQEBAQEBAQEBAQEBAQEBAQEBAQEBAQEBAQEBAQ==",
          "dtype": "i1"
         },
         "xaxis": "x",
         "yaxis": "y"
        },
        {
         "bingroup": "x",
         "hovertemplate": "Sentiment=%{x}<br>count=%{y}<extra></extra>",
         "legendgroup": "0",
         "marker": {
          "color": "red",
          "pattern": {
           "shape": ""
          }
         },
         "name": "0",
         "orientation": "v",
         "showlegend": true,
         "type": "histogram",
         "x": {
          "bdata": "AAAAAAAAAAAAAAAAAAAAAAAAAAAAAAAAAAAAAAAAAAAAAAAAAAAAAAAAAAAAAAAAAAAAAAAAAAAAAAAAAAAAAAAAAAAAAAAAAAA=",
          "dtype": "i1"
         },
         "xaxis": "x",
         "yaxis": "y"
        }
       ],
       "layout": {
        "barmode": "relative",
        "legend": {
         "title": {
          "text": "Sentiment"
         },
         "tracegroupgap": 0
        },
        "template": {
         "data": {
          "bar": [
           {
            "error_x": {
             "color": "#2a3f5f"
            },
            "error_y": {
             "color": "#2a3f5f"
            },
            "marker": {
             "line": {
              "color": "#E5ECF6",
              "width": 0.5
             },
             "pattern": {
              "fillmode": "overlay",
              "size": 10,
              "solidity": 0.2
             }
            },
            "type": "bar"
           }
          ],
          "barpolar": [
           {
            "marker": {
             "line": {
              "color": "#E5ECF6",
              "width": 0.5
             },
             "pattern": {
              "fillmode": "overlay",
              "size": 10,
              "solidity": 0.2
             }
            },
            "type": "barpolar"
           }
          ],
          "carpet": [
           {
            "aaxis": {
             "endlinecolor": "#2a3f5f",
             "gridcolor": "white",
             "linecolor": "white",
             "minorgridcolor": "white",
             "startlinecolor": "#2a3f5f"
            },
            "baxis": {
             "endlinecolor": "#2a3f5f",
             "gridcolor": "white",
             "linecolor": "white",
             "minorgridcolor": "white",
             "startlinecolor": "#2a3f5f"
            },
            "type": "carpet"
           }
          ],
          "choropleth": [
           {
            "colorbar": {
             "outlinewidth": 0,
             "ticks": ""
            },
            "type": "choropleth"
           }
          ],
          "contour": [
           {
            "colorbar": {
             "outlinewidth": 0,
             "ticks": ""
            },
            "colorscale": [
             [
              0,
              "#0d0887"
             ],
             [
              0.1111111111111111,
              "#46039f"
             ],
             [
              0.2222222222222222,
              "#7201a8"
             ],
             [
              0.3333333333333333,
              "#9c179e"
             ],
             [
              0.4444444444444444,
              "#bd3786"
             ],
             [
              0.5555555555555556,
              "#d8576b"
             ],
             [
              0.6666666666666666,
              "#ed7953"
             ],
             [
              0.7777777777777778,
              "#fb9f3a"
             ],
             [
              0.8888888888888888,
              "#fdca26"
             ],
             [
              1,
              "#f0f921"
             ]
            ],
            "type": "contour"
           }
          ],
          "contourcarpet": [
           {
            "colorbar": {
             "outlinewidth": 0,
             "ticks": ""
            },
            "type": "contourcarpet"
           }
          ],
          "heatmap": [
           {
            "colorbar": {
             "outlinewidth": 0,
             "ticks": ""
            },
            "colorscale": [
             [
              0,
              "#0d0887"
             ],
             [
              0.1111111111111111,
              "#46039f"
             ],
             [
              0.2222222222222222,
              "#7201a8"
             ],
             [
              0.3333333333333333,
              "#9c179e"
             ],
             [
              0.4444444444444444,
              "#bd3786"
             ],
             [
              0.5555555555555556,
              "#d8576b"
             ],
             [
              0.6666666666666666,
              "#ed7953"
             ],
             [
              0.7777777777777778,
              "#fb9f3a"
             ],
             [
              0.8888888888888888,
              "#fdca26"
             ],
             [
              1,
              "#f0f921"
             ]
            ],
            "type": "heatmap"
           }
          ],
          "histogram": [
           {
            "marker": {
             "pattern": {
              "fillmode": "overlay",
              "size": 10,
              "solidity": 0.2
             }
            },
            "type": "histogram"
           }
          ],
          "histogram2d": [
           {
            "colorbar": {
             "outlinewidth": 0,
             "ticks": ""
            },
            "colorscale": [
             [
              0,
              "#0d0887"
             ],
             [
              0.1111111111111111,
              "#46039f"
             ],
             [
              0.2222222222222222,
              "#7201a8"
             ],
             [
              0.3333333333333333,
              "#9c179e"
             ],
             [
              0.4444444444444444,
              "#bd3786"
             ],
             [
              0.5555555555555556,
              "#d8576b"
             ],
             [
              0.6666666666666666,
              "#ed7953"
             ],
             [
              0.7777777777777778,
              "#fb9f3a"
             ],
             [
              0.8888888888888888,
              "#fdca26"
             ],
             [
              1,
              "#f0f921"
             ]
            ],
            "type": "histogram2d"
           }
          ],
          "histogram2dcontour": [
           {
            "colorbar": {
             "outlinewidth": 0,
             "ticks": ""
            },
            "colorscale": [
             [
              0,
              "#0d0887"
             ],
             [
              0.1111111111111111,
              "#46039f"
             ],
             [
              0.2222222222222222,
              "#7201a8"
             ],
             [
              0.3333333333333333,
              "#9c179e"
             ],
             [
              0.4444444444444444,
              "#bd3786"
             ],
             [
              0.5555555555555556,
              "#d8576b"
             ],
             [
              0.6666666666666666,
              "#ed7953"
             ],
             [
              0.7777777777777778,
              "#fb9f3a"
             ],
             [
              0.8888888888888888,
              "#fdca26"
             ],
             [
              1,
              "#f0f921"
             ]
            ],
            "type": "histogram2dcontour"
           }
          ],
          "mesh3d": [
           {
            "colorbar": {
             "outlinewidth": 0,
             "ticks": ""
            },
            "type": "mesh3d"
           }
          ],
          "parcoords": [
           {
            "line": {
             "colorbar": {
              "outlinewidth": 0,
              "ticks": ""
             }
            },
            "type": "parcoords"
           }
          ],
          "pie": [
           {
            "automargin": true,
            "type": "pie"
           }
          ],
          "scatter": [
           {
            "fillpattern": {
             "fillmode": "overlay",
             "size": 10,
             "solidity": 0.2
            },
            "type": "scatter"
           }
          ],
          "scatter3d": [
           {
            "line": {
             "colorbar": {
              "outlinewidth": 0,
              "ticks": ""
             }
            },
            "marker": {
             "colorbar": {
              "outlinewidth": 0,
              "ticks": ""
             }
            },
            "type": "scatter3d"
           }
          ],
          "scattercarpet": [
           {
            "marker": {
             "colorbar": {
              "outlinewidth": 0,
              "ticks": ""
             }
            },
            "type": "scattercarpet"
           }
          ],
          "scattergeo": [
           {
            "marker": {
             "colorbar": {
              "outlinewidth": 0,
              "ticks": ""
             }
            },
            "type": "scattergeo"
           }
          ],
          "scattergl": [
           {
            "marker": {
             "colorbar": {
              "outlinewidth": 0,
              "ticks": ""
             }
            },
            "type": "scattergl"
           }
          ],
          "scattermap": [
           {
            "marker": {
             "colorbar": {
              "outlinewidth": 0,
              "ticks": ""
             }
            },
            "type": "scattermap"
           }
          ],
          "scattermapbox": [
           {
            "marker": {
             "colorbar": {
              "outlinewidth": 0,
              "ticks": ""
             }
            },
            "type": "scattermapbox"
           }
          ],
          "scatterpolar": [
           {
            "marker": {
             "colorbar": {
              "outlinewidth": 0,
              "ticks": ""
             }
            },
            "type": "scatterpolar"
           }
          ],
          "scatterpolargl": [
           {
            "marker": {
             "colorbar": {
              "outlinewidth": 0,
              "ticks": ""
             }
            },
            "type": "scatterpolargl"
           }
          ],
          "scatterternary": [
           {
            "marker": {
             "colorbar": {
              "outlinewidth": 0,
              "ticks": ""
             }
            },
            "type": "scatterternary"
           }
          ],
          "surface": [
           {
            "colorbar": {
             "outlinewidth": 0,
             "ticks": ""
            },
            "colorscale": [
             [
              0,
              "#0d0887"
             ],
             [
              0.1111111111111111,
              "#46039f"
             ],
             [
              0.2222222222222222,
              "#7201a8"
             ],
             [
              0.3333333333333333,
              "#9c179e"
             ],
             [
              0.4444444444444444,
              "#bd3786"
             ],
             [
              0.5555555555555556,
              "#d8576b"
             ],
             [
              0.6666666666666666,
              "#ed7953"
             ],
             [
              0.7777777777777778,
              "#fb9f3a"
             ],
             [
              0.8888888888888888,
              "#fdca26"
             ],
             [
              1,
              "#f0f921"
             ]
            ],
            "type": "surface"
           }
          ],
          "table": [
           {
            "cells": {
             "fill": {
              "color": "#EBF0F8"
             },
             "line": {
              "color": "white"
             }
            },
            "header": {
             "fill": {
              "color": "#C8D4E3"
             },
             "line": {
              "color": "white"
             }
            },
            "type": "table"
           }
          ]
         },
         "layout": {
          "annotationdefaults": {
           "arrowcolor": "#2a3f5f",
           "arrowhead": 0,
           "arrowwidth": 1
          },
          "autotypenumbers": "strict",
          "coloraxis": {
           "colorbar": {
            "outlinewidth": 0,
            "ticks": ""
           }
          },
          "colorscale": {
           "diverging": [
            [
             0,
             "#8e0152"
            ],
            [
             0.1,
             "#c51b7d"
            ],
            [
             0.2,
             "#de77ae"
            ],
            [
             0.3,
             "#f1b6da"
            ],
            [
             0.4,
             "#fde0ef"
            ],
            [
             0.5,
             "#f7f7f7"
            ],
            [
             0.6,
             "#e6f5d0"
            ],
            [
             0.7,
             "#b8e186"
            ],
            [
             0.8,
             "#7fbc41"
            ],
            [
             0.9,
             "#4d9221"
            ],
            [
             1,
             "#276419"
            ]
           ],
           "sequential": [
            [
             0,
             "#0d0887"
            ],
            [
             0.1111111111111111,
             "#46039f"
            ],
            [
             0.2222222222222222,
             "#7201a8"
            ],
            [
             0.3333333333333333,
             "#9c179e"
            ],
            [
             0.4444444444444444,
             "#bd3786"
            ],
            [
             0.5555555555555556,
             "#d8576b"
            ],
            [
             0.6666666666666666,
             "#ed7953"
            ],
            [
             0.7777777777777778,
             "#fb9f3a"
            ],
            [
             0.8888888888888888,
             "#fdca26"
            ],
            [
             1,
             "#f0f921"
            ]
           ],
           "sequentialminus": [
            [
             0,
             "#0d0887"
            ],
            [
             0.1111111111111111,
             "#46039f"
            ],
            [
             0.2222222222222222,
             "#7201a8"
            ],
            [
             0.3333333333333333,
             "#9c179e"
            ],
            [
             0.4444444444444444,
             "#bd3786"
            ],
            [
             0.5555555555555556,
             "#d8576b"
            ],
            [
             0.6666666666666666,
             "#ed7953"
            ],
            [
             0.7777777777777778,
             "#fb9f3a"
            ],
            [
             0.8888888888888888,
             "#fdca26"
            ],
            [
             1,
             "#f0f921"
            ]
           ]
          },
          "colorway": [
           "#636efa",
           "#EF553B",
           "#00cc96",
           "#ab63fa",
           "#FFA15A",
           "#19d3f3",
           "#FF6692",
           "#B6E880",
           "#FF97FF",
           "#FECB52"
          ],
          "font": {
           "color": "#2a3f5f"
          },
          "geo": {
           "bgcolor": "white",
           "lakecolor": "white",
           "landcolor": "#E5ECF6",
           "showlakes": true,
           "showland": true,
           "subunitcolor": "white"
          },
          "hoverlabel": {
           "align": "left"
          },
          "hovermode": "closest",
          "mapbox": {
           "style": "light"
          },
          "paper_bgcolor": "white",
          "plot_bgcolor": "#E5ECF6",
          "polar": {
           "angularaxis": {
            "gridcolor": "white",
            "linecolor": "white",
            "ticks": ""
           },
           "bgcolor": "#E5ECF6",
           "radialaxis": {
            "gridcolor": "white",
            "linecolor": "white",
            "ticks": ""
           }
          },
          "scene": {
           "xaxis": {
            "backgroundcolor": "#E5ECF6",
            "gridcolor": "white",
            "gridwidth": 2,
            "linecolor": "white",
            "showbackground": true,
            "ticks": "",
            "zerolinecolor": "white"
           },
           "yaxis": {
            "backgroundcolor": "#E5ECF6",
            "gridcolor": "white",
            "gridwidth": 2,
            "linecolor": "white",
            "showbackground": true,
            "ticks": "",
            "zerolinecolor": "white"
           },
           "zaxis": {
            "backgroundcolor": "#E5ECF6",
            "gridcolor": "white",
            "gridwidth": 2,
            "linecolor": "white",
            "showbackground": true,
            "ticks": "",
            "zerolinecolor": "white"
           }
          },
          "shapedefaults": {
           "line": {
            "color": "#2a3f5f"
           }
          },
          "ternary": {
           "aaxis": {
            "gridcolor": "white",
            "linecolor": "white",
            "ticks": ""
           },
           "baxis": {
            "gridcolor": "white",
            "linecolor": "white",
            "ticks": ""
           },
           "bgcolor": "#E5ECF6",
           "caxis": {
            "gridcolor": "white",
            "linecolor": "white",
            "ticks": ""
           }
          },
          "title": {
           "x": 0.05
          },
          "xaxis": {
           "automargin": true,
           "gridcolor": "white",
           "linecolor": "white",
           "ticks": "",
           "title": {
            "standoff": 15
           },
           "zerolinecolor": "white",
           "zerolinewidth": 2
          },
          "yaxis": {
           "automargin": true,
           "gridcolor": "white",
           "linecolor": "white",
           "ticks": "",
           "title": {
            "standoff": 15
           },
           "zerolinecolor": "white",
           "zerolinewidth": 2
          }
         }
        },
        "title": {
         "text": "Sentiment Distribution (0=Negative, 1=Positive)"
        },
        "xaxis": {
         "anchor": "y",
         "categoryarray": [
          1,
          0
         ],
         "categoryorder": "array",
         "domain": [
          0,
          1
         ],
         "title": {
          "text": "Sentiment"
         }
        },
        "yaxis": {
         "anchor": "x",
         "domain": [
          0,
          1
         ],
         "title": {
          "text": "count"
         }
        }
       }
      }
     },
     "metadata": {},
     "output_type": "display_data"
    },
    {
     "data": {
      "application/vnd.plotly.v1+json": {
       "config": {
        "plotlyServerURL": "https://plot.ly"
       },
       "data": [
        {
         "bingroup": "x",
         "hovertemplate": "Prediction Confidence=%{x}<br>count=%{y}<extra></extra>",
         "legendgroup": "",
         "marker": {
          "color": "#636efa",
          "pattern": {
           "shape": ""
          }
         },
         "name": "",
         "nbinsx": 30,
         "orientation": "v",
         "showlegend": false,
         "type": "histogram",
         "x": {
          "bdata": "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",
          "dtype": "f8"
         },
         "xaxis": "x",
         "yaxis": "y"
        }
       ],
       "layout": {
        "barmode": "relative",
        "legend": {
         "tracegroupgap": 0
        },
        "template": {
         "data": {
          "bar": [
           {
            "error_x": {
             "color": "#2a3f5f"
            },
            "error_y": {
             "color": "#2a3f5f"
            },
            "marker": {
             "line": {
              "color": "#E5ECF6",
              "width": 0.5
             },
             "pattern": {
              "fillmode": "overlay",
              "size": 10,
              "solidity": 0.2
             }
            },
            "type": "bar"
           }
          ],
          "barpolar": [
           {
            "marker": {
             "line": {
              "color": "#E5ECF6",
              "width": 0.5
             },
             "pattern": {
              "fillmode": "overlay",
              "size": 10,
              "solidity": 0.2
             }
            },
            "type": "barpolar"
           }
          ],
          "carpet": [
           {
            "aaxis": {
             "endlinecolor": "#2a3f5f",
             "gridcolor": "white",
             "linecolor": "white",
             "minorgridcolor": "white",
             "startlinecolor": "#2a3f5f"
            },
            "baxis": {
             "endlinecolor": "#2a3f5f",
             "gridcolor": "white",
             "linecolor": "white",
             "minorgridcolor": "white",
             "startlinecolor": "#2a3f5f"
            },
            "type": "carpet"
           }
          ],
          "choropleth": [
           {
            "colorbar": {
             "outlinewidth": 0,
             "ticks": ""
            },
            "type": "choropleth"
           }
          ],
          "contour": [
           {
            "colorbar": {
             "outlinewidth": 0,
             "ticks": ""
            },
            "colorscale": [
             [
              0,
              "#0d0887"
             ],
             [
              0.1111111111111111,
              "#46039f"
             ],
             [
              0.2222222222222222,
              "#7201a8"
             ],
             [
              0.3333333333333333,
              "#9c179e"
             ],
             [
              0.4444444444444444,
              "#bd3786"
             ],
             [
              0.5555555555555556,
              "#d8576b"
             ],
             [
              0.6666666666666666,
              "#ed7953"
             ],
             [
              0.7777777777777778,
              "#fb9f3a"
             ],
             [
              0.8888888888888888,
              "#fdca26"
             ],
             [
              1,
              "#f0f921"
             ]
            ],
            "type": "contour"
           }
          ],
          "contourcarpet": [
           {
            "colorbar": {
             "outlinewidth": 0,
             "ticks": ""
            },
            "type": "contourcarpet"
           }
          ],
          "heatmap": [
           {
            "colorbar": {
             "outlinewidth": 0,
             "ticks": ""
            },
            "colorscale": [
             [
              0,
              "#0d0887"
             ],
             [
              0.1111111111111111,
              "#46039f"
             ],
             [
              0.2222222222222222,
              "#7201a8"
             ],
             [
              0.3333333333333333,
              "#9c179e"
             ],
             [
              0.4444444444444444,
              "#bd3786"
             ],
             [
              0.5555555555555556,
              "#d8576b"
             ],
             [
              0.6666666666666666,
              "#ed7953"
             ],
             [
              0.7777777777777778,
              "#fb9f3a"
             ],
             [
              0.8888888888888888,
              "#fdca26"
             ],
             [
              1,
              "#f0f921"
             ]
            ],
            "type": "heatmap"
           }
          ],
          "histogram": [
           {
            "marker": {
             "pattern": {
              "fillmode": "overlay",
              "size": 10,
              "solidity": 0.2
             }
            },
            "type": "histogram"
           }
          ],
          "histogram2d": [
           {
            "colorbar": {
             "outlinewidth": 0,
             "ticks": ""
            },
            "colorscale": [
             [
              0,
              "#0d0887"
             ],
             [
              0.1111111111111111,
              "#46039f"
             ],
             [
              0.2222222222222222,
              "#7201a8"
             ],
             [
              0.3333333333333333,
              "#9c179e"
             ],
             [
              0.4444444444444444,
              "#bd3786"
             ],
             [
              0.5555555555555556,
              "#d8576b"
             ],
             [
              0.6666666666666666,
              "#ed7953"
             ],
             [
              0.7777777777777778,
              "#fb9f3a"
             ],
             [
              0.8888888888888888,
              "#fdca26"
             ],
             [
              1,
              "#f0f921"
             ]
            ],
            "type": "histogram2d"
           }
          ],
          "histogram2dcontour": [
           {
            "colorbar": {
             "outlinewidth": 0,
             "ticks": ""
            },
            "colorscale": [
             [
              0,
              "#0d0887"
             ],
             [
              0.1111111111111111,
              "#46039f"
             ],
             [
              0.2222222222222222,
              "#7201a8"
             ],
             [
              0.3333333333333333,
              "#9c179e"
             ],
             [
              0.4444444444444444,
              "#bd3786"
             ],
             [
              0.5555555555555556,
              "#d8576b"
             ],
             [
              0.6666666666666666,
              "#ed7953"
             ],
             [
              0.7777777777777778,
              "#fb9f3a"
             ],
             [
              0.8888888888888888,
              "#fdca26"
             ],
             [
              1,
              "#f0f921"
             ]
            ],
            "type": "histogram2dcontour"
           }
          ],
          "mesh3d": [
           {
            "colorbar": {
             "outlinewidth": 0,
             "ticks": ""
            },
            "type": "mesh3d"
           }
          ],
          "parcoords": [
           {
            "line": {
             "colorbar": {
              "outlinewidth": 0,
              "ticks": ""
             }
            },
            "type": "parcoords"
           }
          ],
          "pie": [
           {
            "automargin": true,
            "type": "pie"
           }
          ],
          "scatter": [
           {
            "fillpattern": {
             "fillmode": "overlay",
             "size": 10,
             "solidity": 0.2
            },
            "type": "scatter"
           }
          ],
          "scatter3d": [
           {
            "line": {
             "colorbar": {
              "outlinewidth": 0,
              "ticks": ""
             }
            },
            "marker": {
             "colorbar": {
              "outlinewidth": 0,
              "ticks": ""
             }
            },
            "type": "scatter3d"
           }
          ],
          "scattercarpet": [
           {
            "marker": {
             "colorbar": {
              "outlinewidth": 0,
              "ticks": ""
             }
            },
            "type": "scattercarpet"
           }
          ],
          "scattergeo": [
           {
            "marker": {
             "colorbar": {
              "outlinewidth": 0,
              "ticks": ""
             }
            },
            "type": "scattergeo"
           }
          ],
          "scattergl": [
           {
            "marker": {
             "colorbar": {
              "outlinewidth": 0,
              "ticks": ""
             }
            },
            "type": "scattergl"
           }
          ],
          "scattermap": [
           {
            "marker": {
             "colorbar": {
              "outlinewidth": 0,
              "ticks": ""
             }
            },
            "type": "scattermap"
           }
          ],
          "scattermapbox": [
           {
            "marker": {
             "colorbar": {
              "outlinewidth": 0,
              "ticks": ""
             }
            },
            "type": "scattermapbox"
           }
          ],
          "scatterpolar": [
           {
            "marker": {
             "colorbar": {
              "outlinewidth": 0,
              "ticks": ""
             }
            },
            "type": "scatterpolar"
           }
          ],
          "scatterpolargl": [
           {
            "marker": {
             "colorbar": {
              "outlinewidth": 0,
              "ticks": ""
             }
            },
            "type": "scatterpolargl"
           }
          ],
          "scatterternary": [
           {
            "marker": {
             "colorbar": {
              "outlinewidth": 0,
              "ticks": ""
             }
            },
            "type": "scatterternary"
           }
          ],
          "surface": [
           {
            "colorbar": {
             "outlinewidth": 0,
             "ticks": ""
            },
            "colorscale": [
             [
              0,
              "#0d0887"
             ],
             [
              0.1111111111111111,
              "#46039f"
             ],
             [
              0.2222222222222222,
              "#7201a8"
             ],
             [
              0.3333333333333333,
              "#9c179e"
             ],
             [
              0.4444444444444444,
              "#bd3786"
             ],
             [
              0.5555555555555556,
              "#d8576b"
             ],
             [
              0.6666666666666666,
              "#ed7953"
             ],
             [
              0.7777777777777778,
              "#fb9f3a"
             ],
             [
              0.8888888888888888,
              "#fdca26"
             ],
             [
              1,
              "#f0f921"
             ]
            ],
            "type": "surface"
           }
          ],
          "table": [
           {
            "cells": {
             "fill": {
              "color": "#EBF0F8"
             },
             "line": {
              "color": "white"
             }
            },
            "header": {
             "fill": {
              "color": "#C8D4E3"
             },
             "line": {
              "color": "white"
             }
            },
            "type": "table"
           }
          ]
         },
         "layout": {
          "annotationdefaults": {
           "arrowcolor": "#2a3f5f",
           "arrowhead": 0,
           "arrowwidth": 1
          },
          "autotypenumbers": "strict",
          "coloraxis": {
           "colorbar": {
            "outlinewidth": 0,
            "ticks": ""
           }
          },
          "colorscale": {
           "diverging": [
            [
             0,
             "#8e0152"
            ],
            [
             0.1,
             "#c51b7d"
            ],
            [
             0.2,
             "#de77ae"
            ],
            [
             0.3,
             "#f1b6da"
            ],
            [
             0.4,
             "#fde0ef"
            ],
            [
             0.5,
             "#f7f7f7"
            ],
            [
             0.6,
             "#e6f5d0"
            ],
            [
             0.7,
             "#b8e186"
            ],
            [
             0.8,
             "#7fbc41"
            ],
            [
             0.9,
             "#4d9221"
            ],
            [
             1,
             "#276419"
            ]
           ],
           "sequential": [
            [
             0,
             "#0d0887"
            ],
            [
             0.1111111111111111,
             "#46039f"
            ],
            [
             0.2222222222222222,
             "#7201a8"
            ],
            [
             0.3333333333333333,
             "#9c179e"
            ],
            [
             0.4444444444444444,
             "#bd3786"
            ],
            [
             0.5555555555555556,
             "#d8576b"
            ],
            [
             0.6666666666666666,
             "#ed7953"
            ],
            [
             0.7777777777777778,
             "#fb9f3a"
            ],
            [
             0.8888888888888888,
             "#fdca26"
            ],
            [
             1,
             "#f0f921"
            ]
           ],
           "sequentialminus": [
            [
             0,
             "#0d0887"
            ],
            [
             0.1111111111111111,
             "#46039f"
            ],
            [
             0.2222222222222222,
             "#7201a8"
            ],
            [
             0.3333333333333333,
             "#9c179e"
            ],
            [
             0.4444444444444444,
             "#bd3786"
            ],
            [
             0.5555555555555556,
             "#d8576b"
            ],
            [
             0.6666666666666666,
             "#ed7953"
            ],
            [
             0.7777777777777778,
             "#fb9f3a"
            ],
            [
             0.8888888888888888,
             "#fdca26"
            ],
            [
             1,
             "#f0f921"
            ]
           ]
          },
          "colorway": [
           "#636efa",
           "#EF553B",
           "#00cc96",
           "#ab63fa",
           "#FFA15A",
           "#19d3f3",
           "#FF6692",
           "#B6E880",
           "#FF97FF",
           "#FECB52"
          ],
          "font": {
           "color": "#2a3f5f"
          },
          "geo": {
           "bgcolor": "white",
           "lakecolor": "white",
           "landcolor": "#E5ECF6",
           "showlakes": true,
           "showland": true,
           "subunitcolor": "white"
          },
          "hoverlabel": {
           "align": "left"
          },
          "hovermode": "closest",
          "mapbox": {
           "style": "light"
          },
          "paper_bgcolor": "white",
          "plot_bgcolor": "#E5ECF6",
          "polar": {
           "angularaxis": {
            "gridcolor": "white",
            "linecolor": "white",
            "ticks": ""
           },
           "bgcolor": "#E5ECF6",
           "radialaxis": {
            "gridcolor": "white",
            "linecolor": "white",
            "ticks": ""
           }
          },
          "scene": {
           "xaxis": {
            "backgroundcolor": "#E5ECF6",
            "gridcolor": "white",
            "gridwidth": 2,
            "linecolor": "white",
            "showbackground": true,
            "ticks": "",
            "zerolinecolor": "white"
           },
           "yaxis": {
            "backgroundcolor": "#E5ECF6",
            "gridcolor": "white",
            "gridwidth": 2,
            "linecolor": "white",
            "showbackground": true,
            "ticks": "",
            "zerolinecolor": "white"
           },
           "zaxis": {
            "backgroundcolor": "#E5ECF6",
            "gridcolor": "white",
            "gridwidth": 2,
            "linecolor": "white",
            "showbackground": true,
            "ticks": "",
            "zerolinecolor": "white"
           }
          },
          "shapedefaults": {
           "line": {
            "color": "#2a3f5f"
           }
          },
          "ternary": {
           "aaxis": {
            "gridcolor": "white",
            "linecolor": "white",
            "ticks": ""
           },
           "baxis": {
            "gridcolor": "white",
            "linecolor": "white",
            "ticks": ""
           },
           "bgcolor": "#E5ECF6",
           "caxis": {
            "gridcolor": "white",
            "linecolor": "white",
            "ticks": ""
           }
          },
          "title": {
           "x": 0.05
          },
          "xaxis": {
           "automargin": true,
           "gridcolor": "white",
           "linecolor": "white",
           "ticks": "",
           "title": {
            "standoff": 15
           },
           "zerolinecolor": "white",
           "zerolinewidth": 2
          },
          "yaxis": {
           "automargin": true,
           "gridcolor": "white",
           "linecolor": "white",
           "ticks": "",
           "title": {
            "standoff": 15
           },
           "zerolinecolor": "white",
           "zerolinewidth": 2
          }
         }
        },
        "title": {
         "text": "Model Confidence Distribution"
        },
        "xaxis": {
         "anchor": "y",
         "domain": [
          0,
          1
         ],
         "title": {
          "text": "Prediction Confidence"
         }
        },
        "yaxis": {
         "anchor": "x",
         "domain": [
          0,
          1
         ],
         "title": {
          "text": "count"
         }
        }
       }
      }
     },
     "metadata": {},
     "output_type": "display_data"
    }
   ],
   "source": [
    "fig_sent = px.histogram(df, x='sentiment', color='sentiment',\n",
    "color_discrete_map={0: 'red', 1: 'green'},\n",
    "title='Sentiment Distribution (0=Negative, 1=Positive)',\n",
    "labels={'sentiment': 'Sentiment'})\n",
    "fig_sent.show()\n",
    "\n",
    "fig_conf = px.histogram(df, x='confidence', nbins=30,\n",
    "title='Model Confidence Distribution',\n",
    "labels={'confidence': 'Prediction Confidence'})\n",
    "fig_conf.show()"
   ]
  },
  {
   "cell_type": "code",
   "execution_count": null,
   "id": "fcc08a94",
   "metadata": {},
   "outputs": [],
   "source": []
  }
 ],
 "metadata": {
  "kernelspec": {
   "display_name": ".venv",
   "language": "python",
   "name": "python3"
  },
  "language_info": {
   "codemirror_mode": {
    "name": "ipython",
    "version": 3
   },
   "file_extension": ".py",
   "mimetype": "text/x-python",
   "name": "python",
   "nbconvert_exporter": "python",
   "pygments_lexer": "ipython3",
   "version": "3.9.11"
  }
 },
 "nbformat": 4,
 "nbformat_minor": 5
}
