{
 "cells": [
  {
   "cell_type": "markdown",
   "id": "ac517c45",
   "metadata": {},
   "source": [
    "# Instagram Sentiment Analysis POC - Transformer trained"
   ]
  },
  {
   "cell_type": "code",
   "execution_count": 1,
   "id": "2575c723",
   "metadata": {},
   "outputs": [],
   "source": [
    "import pandas as pd\n",
    "import re\n",
    "import nltk\n",
    "from langdetect import detect, DetectorFactory\n",
    "from transformers import AutoTokenizer, AutoModelForSequenceClassification, TrainingArguments, Trainer, TextClassificationPipeline\n",
    "from sklearn.model_selection import train_test_split\n",
    "import torch"
   ]
  },
  {
   "cell_type": "code",
   "execution_count": 2,
   "id": "ab53b851",
   "metadata": {},
   "outputs": [
    {
     "name": "stderr",
     "output_type": "stream",
     "text": [
      "[nltk_data] Downloading package stopwords to\n",
      "[nltk_data]     C:\\Users\\shyam\\AppData\\Roaming\\nltk_data...\n",
      "[nltk_data]   Package stopwords is already up-to-date!\n",
      "[nltk_data] Downloading package punkt to\n",
      "[nltk_data]     C:\\Users\\shyam\\AppData\\Roaming\\nltk_data...\n",
      "[nltk_data]   Package punkt is already up-to-date!\n"
     ]
    },
    {
     "data": {
      "text/plain": [
       "True"
      ]
     },
     "execution_count": 2,
     "metadata": {},
     "output_type": "execute_result"
    }
   ],
   "source": [
    "nltk.download('stopwords')\n",
    "nltk.download('punkt')"
   ]
  },
  {
   "cell_type": "code",
   "execution_count": null,
   "id": "0967478b",
   "metadata": {},
   "outputs": [],
   "source": [
    "df = pd.read_csv(\"Instagram-datasets.csv\")\n",
    "\n",
    "df = df.dropna(subset=['comment']).reset_index(drop=True)\n",
    "\n",
    "def is_english(text):\n",
    "    try:\n",
    "        return detect(text) == 'en'\n",
    "    except:\n",
    "        return False\n",
    "\n",
    "df[\"is_english\"] = df[\"comment\"].apply(is_english)\n",
    "df = df[df[\"is_english\"]]\n",
    "\n",
    "# Clean text\n",
    "def clean_text(text):\n",
    "    text = str(text).lower()\n",
    "    text = re.sub(r\"http\\S+|@\\w+|#\\w+|[^\\x00-\\x7F]+\", \" \", text)  # Removing url using regex on HTTP, @ regex mentions, and emoji code regex patterns\n",
    "    text = re.sub(r\"[^a-z\\s]\", \"\", text)                          # Letter Only Regex\n",
    "    text = re.sub(r\"\\s+\", \" \", text).strip()                     # Space Trim Logic\n",
    "    return text\n",
    "\n",
    "df[\"clean_comment\"] = df[\"comment\"].apply(clean_text)\n",
    "df[\"label\"] = -1  "
   ]
  },
  {
   "cell_type": "code",
   "execution_count": null,
   "id": "742ebf50",
   "metadata": {},
   "outputs": [],
   "source": [
    "df_labeled = df.sample(frac=1.0, random_state=42).copy()\n",
    "mid = len(df_labeled) // 2\n",
    "df_labeled.iloc[:mid, df_labeled.columns.get_loc(\"label\")] = 0  \n",
    "df_labeled.iloc[mid:, df_labeled.columns.get_loc(\"label\")] = 1  \n",
    "\n",
    "train_texts, val_texts, train_labels, val_labels = train_test_split(\n",
    "    df_labeled[\"clean_comment\"].tolist(),\n",
    "    df_labeled[\"label\"].tolist(),\n",
    "    test_size=0.2,\n",
    "    random_state=42\n",
    ")"
   ]
  },
  {
   "cell_type": "code",
   "execution_count": 5,
   "id": "9fda6589",
   "metadata": {},
   "outputs": [],
   "source": [
    "tokenizer = AutoTokenizer.from_pretrained(\"bert-base-uncased\")\n",
    "train_encodings = tokenizer(train_texts, truncation=True, padding=True)\n",
    "val_encodings = tokenizer(val_texts, truncation=True, padding=True)"
   ]
  },
  {
   "cell_type": "code",
   "execution_count": 6,
   "id": "aa6b8158",
   "metadata": {},
   "outputs": [],
   "source": [
    "class SentimentDataset(torch.utils.data.Dataset):\n",
    "    def __init__(self, encodings, labels):\n",
    "        self.encodings = encodings\n",
    "        self.labels = labels\n",
    "    def __getitem__(self, idx):\n",
    "        item = {key: torch.tensor(val[idx]) for key, val in self.encodings.items()}\n",
    "        item['labels'] = torch.tensor(self.labels[idx])\n",
    "        return item\n",
    "    def __len__(self):\n",
    "        return len(self.labels)"
   ]
  },
  {
   "cell_type": "code",
   "execution_count": 7,
   "id": "a4429da8",
   "metadata": {},
   "outputs": [],
   "source": [
    "train_dataset = SentimentDataset(train_encodings, train_labels)\n",
    "val_dataset = SentimentDataset(val_encodings, val_labels)"
   ]
  },
  {
   "cell_type": "code",
   "execution_count": 8,
   "id": "2f03de5a",
   "metadata": {},
   "outputs": [],
   "source": [
    "training_args = TrainingArguments(\n",
    "    output_dir=\"./results\",\n",
    "    do_train=True,\n",
    "    do_eval=True,\n",
    "    per_device_train_batch_size=16,\n",
    "    per_device_eval_batch_size=16,\n",
    "    learning_rate=2e-5,\n",
    "    num_train_epochs=3,\n",
    "    warmup_steps=500,\n",
    "    weight_decay=0.01,\n",
    "    logging_steps=100,\n",
    "    logging_dir=\"./logs\",\n",
    "    save_steps=500,\n",
    "    eval_steps=500,\n",
    "    save_total_limit=2\n",
    ")"
   ]
  },
  {
   "cell_type": "code",
   "execution_count": 10,
   "id": "5a39d36d",
   "metadata": {},
   "outputs": [
    {
     "name": "stderr",
     "output_type": "stream",
     "text": [
      "Some weights of BertForSequenceClassification were not initialized from the model checkpoint at bert-base-uncased and are newly initialized: ['classifier.bias', 'classifier.weight']\n",
      "You should probably TRAIN this model on a down-stream task to be able to use it for predictions and inference.\n",
      "c:\\Users\\shyam\\Downloads\\Project_NLP_Insta\\.venv\\lib\\site-packages\\torch\\utils\\data\\dataloader.py:665: UserWarning: 'pin_memory' argument is set as true but no accelerator is found, then device pinned memory won't be used.\n",
      "  warnings.warn(warn_msg)\n"
     ]
    },
    {
     "data": {
      "text/html": [
       "\n",
       "    <div>\n",
       "      \n",
       "      <progress value='54' max='54' style='width:300px; height:20px; vertical-align: middle;'></progress>\n",
       "      [54/54 02:08, Epoch 3/3]\n",
       "    </div>\n",
       "    <table border=\"1\" class=\"dataframe\">\n",
       "  <thead>\n",
       " <tr style=\"text-align: left;\">\n",
       "      <th>Step</th>\n",
       "      <th>Training Loss</th>\n",
       "    </tr>\n",
       "  </thead>\n",
       "  <tbody>\n",
       "  </tbody>\n",
       "</table><p>"
      ],
      "text/plain": [
       "<IPython.core.display.HTML object>"
      ]
     },
     "metadata": {},
     "output_type": "display_data"
    },
    {
     "data": {
      "text/plain": [
       "TrainOutput(global_step=54, training_loss=0.6918144932499638, metrics={'train_runtime': 131.0724, 'train_samples_per_second': 6.363, 'train_steps_per_second': 0.412, 'total_flos': 39429658311840.0, 'train_loss': 0.6918144932499638, 'epoch': 3.0})"
      ]
     },
     "execution_count": 10,
     "metadata": {},
     "output_type": "execute_result"
    }
   ],
   "source": [
    "model = AutoModelForSequenceClassification.from_pretrained(\"bert-base-uncased\", num_labels=2)\n",
    "trainer = Trainer(\n",
    "    model=model,\n",
    "    args=training_args,\n",
    "    train_dataset=train_dataset,\n",
    "    eval_dataset=val_dataset,\n",
    ")\n",
    "trainer.train()"
   ]
  },
  {
   "cell_type": "code",
   "execution_count": 11,
   "id": "8198ef60",
   "metadata": {},
   "outputs": [
    {
     "data": {
      "text/plain": [
       "('bert-instagram-sentiment\\\\tokenizer_config.json',\n",
       " 'bert-instagram-sentiment\\\\special_tokens_map.json',\n",
       " 'bert-instagram-sentiment\\\\vocab.txt',\n",
       " 'bert-instagram-sentiment\\\\added_tokens.json',\n",
       " 'bert-instagram-sentiment\\\\tokenizer.json')"
      ]
     },
     "execution_count": 11,
     "metadata": {},
     "output_type": "execute_result"
    }
   ],
   "source": [
    "model_path = \"bert-instagram-sentiment\"\n",
    "model.save_pretrained(model_path)\n",
    "tokenizer.save_pretrained(model_path)"
   ]
  },
  {
   "cell_type": "code",
   "execution_count": 12,
   "id": "0ff31349",
   "metadata": {},
   "outputs": [
    {
     "name": "stderr",
     "output_type": "stream",
     "text": [
      "Device set to use cpu\n",
      "c:\\Users\\shyam\\Downloads\\Project_NLP_Insta\\.venv\\lib\\site-packages\\transformers\\pipelines\\text_classification.py:106: UserWarning: `return_all_scores` is now deprecated,  if want a similar functionality use `top_k=None` instead of `return_all_scores=True` or `top_k=1` instead of `return_all_scores=False`.\n",
      "  warnings.warn(\n"
     ]
    }
   ],
   "source": [
    "sentiment_pipe = TextClassificationPipeline(\n",
    "    model=AutoModelForSequenceClassification.from_pretrained(model_path),\n",
    "    tokenizer=AutoTokenizer.from_pretrained(model_path),\n",
    "    return_all_scores=False,\n",
    "    device=0 if torch.cuda.is_available() else -1\n",
    ")"
   ]
  },
  {
   "cell_type": "code",
   "execution_count": 13,
   "id": "5dd629ed",
   "metadata": {},
   "outputs": [
    {
     "name": "stdout",
     "output_type": "stream",
     "text": [
      "[{'label': 'LABEL_1', 'score': 0.5331133008003235}]\n",
      "[{'label': 'LABEL_1', 'score': 0.5153830647468567}]\n"
     ]
    }
   ],
   "source": [
    "print(sentiment_pipe(\"I love this post.\"))\n",
    "print(sentiment_pipe(\"This is a horrible idea!\"))"
   ]
  },
  {
   "cell_type": "code",
   "execution_count": null,
   "id": "180874b7",
   "metadata": {},
   "outputs": [],
   "source": []
  }
 ],
 "metadata": {
  "kernelspec": {
   "display_name": ".venv",
   "language": "python",
   "name": "python3"
  },
  "language_info": {
   "codemirror_mode": {
    "name": "ipython",
    "version": 3
   },
   "file_extension": ".py",
   "mimetype": "text/x-python",
   "name": "python",
   "nbconvert_exporter": "python",
   "pygments_lexer": "ipython3",
   "version": "3.9.11"
  }
 },
 "nbformat": 4,
 "nbformat_minor": 5
}
